{
 "cells": [
  {
   "cell_type": "markdown",
   "id": "b2157fc7",
   "metadata": {},
   "source": [
    "# Data processing "
   ]
  },
  {
   "cell_type": "markdown",
   "id": "1eefdf9b",
   "metadata": {},
   "source": [
    "## Imports"
   ]
  },
  {
   "cell_type": "code",
   "execution_count": 1,
   "id": "3b077eee",
   "metadata": {},
   "outputs": [],
   "source": [
    "import numpy as np\n",
    "import json\n",
    "import torch\n",
    "import torch.nn as nn\n",
    "from torch.utils.data import Dataset, DataLoader\n",
    "from sklearn.feature_extraction.text import CountVectorizer\n",
    "from torchtext.vocab import GloVe"
   ]
  },
  {
   "cell_type": "markdown",
   "id": "bcb8f9b3",
   "metadata": {},
   "source": [
    "## Parameters"
   ]
  },
  {
   "cell_type": "code",
   "execution_count": 2,
   "id": "17b4d372",
   "metadata": {},
   "outputs": [],
   "source": [
    "max_words = 20\n",
    "embed_len = 300\n",
    "batch_size = 64"
   ]
  },
  {
   "cell_type": "markdown",
   "id": "c68ffafb",
   "metadata": {},
   "source": [
    "## Load dataset"
   ]
  },
  {
   "cell_type": "code",
   "execution_count": 3,
   "id": "11e9c5af",
   "metadata": {},
   "outputs": [],
   "source": [
    "with open('intents.json', 'r') as f:\n",
    "    intents = json.load(f)"
   ]
  },
  {
   "cell_type": "code",
   "execution_count": 4,
   "id": "568f4330",
   "metadata": {},
   "outputs": [],
   "source": [
    "tags = []\n",
    "xy = []\n",
    "\n",
    "# loop through each sentence in our intents patterns\n",
    "for intent in intents['intents']:\n",
    "    tag = intent['tag']\n",
    "    # add to tag list\n",
    "    tags.append(tag)\n",
    "    for pattern in intent['patterns']:\n",
    "        # add to xy pair\n",
    "        xy.append((pattern, tag))"
   ]
  },
  {
   "cell_type": "code",
   "execution_count": 5,
   "id": "87010b83",
   "metadata": {},
   "outputs": [
    {
     "name": "stdout",
     "output_type": "stream",
     "text": [
      "(74,) ['Hi' 'Hey' 'How are you']\n",
      "(74,) [0 0 0]\n"
     ]
    }
   ],
   "source": [
    "# create training data\n",
    "X_train = []\n",
    "y_train = []\n",
    "for (pattern_sentence, tag) in xy:\n",
    "    X_train.append(pattern_sentence)\n",
    "\n",
    "    label = tags.index(tag)\n",
    "    y_train.append(label)\n",
    "\n",
    "X_train = np.array(X_train)\n",
    "y_train = np.array(y_train)\n",
    "\n",
    "print(X_train.shape, X_train[:3])\n",
    "print(y_train.shape, y_train[:3])"
   ]
  },
  {
   "cell_type": "code",
   "execution_count": 6,
   "id": "53a77934",
   "metadata": {},
   "outputs": [],
   "source": [
    "class Sequences(Dataset):\n",
    "    def __init__(self):\n",
    "        self.n_samples = len(X_train)\n",
    "        self.x_data = X_train\n",
    "        self.y_data = y_train\n",
    "        \n",
    "    def __getitem__(self, i):\n",
    "        return self.x_data[i], self.y_data[i]\n",
    "    \n",
    "    def __len__(self):\n",
    "        return self.n_samples"
   ]
  },
  {
   "cell_type": "markdown",
   "id": "ff80c2e9",
   "metadata": {},
   "source": [
    "# Model definition"
   ]
  },
  {
   "cell_type": "code",
   "execution_count": 13,
   "id": "82dcb5d7",
   "metadata": {},
   "outputs": [],
   "source": [
    "num_epochs = 1000\n",
    "learning_rate = 1e-3\n",
    "input_size = max_words*embed_len\n",
    "output_size = len(tags)"
   ]
  },
  {
   "cell_type": "code",
   "execution_count": 8,
   "id": "60cf7228",
   "metadata": {},
   "outputs": [],
   "source": [
    "class NeuralNet(nn.Module):\n",
    "    def __init__(self, input_size, num_classes):\n",
    "        super(NeuralNet, self).__init__()\n",
    "        self.seq = nn.Sequential(\n",
    "            nn.Linear(input_size, 256),\n",
    "            nn.ReLU(),\n",
    "\n",
    "            nn.Linear(256,128),\n",
    "            nn.ReLU(),\n",
    "\n",
    "            nn.Linear(128,64),\n",
    "            nn.ReLU(),\n",
    "\n",
    "            nn.Linear(64, num_classes),\n",
    "        )\n",
    "    \n",
    "    def forward(self, x):\n",
    "        return self.seq(x)"
   ]
  },
  {
   "cell_type": "markdown",
   "id": "9a3b517c",
   "metadata": {},
   "source": [
    "# Training"
   ]
  },
  {
   "cell_type": "code",
   "execution_count": 9,
   "id": "4294467f",
   "metadata": {},
   "outputs": [],
   "source": [
    "from torchtext.data import get_tokenizer\n",
    "\n",
    "tokenizer = get_tokenizer(\"basic_english\")\n",
    "glove = GloVe(name='840B', dim=300)"
   ]
  },
  {
   "cell_type": "code",
   "execution_count": 10,
   "id": "9ffb5b71",
   "metadata": {},
   "outputs": [],
   "source": [
    "def vectorize_batch(batch):\n",
    "    X, Y = list(zip(*batch))\n",
    "    X = [tokenizer(x) for x in X]\n",
    "    X = [tokens+[\"\"] * (max_words-len(tokens))  if len(tokens)<max_words else tokens[:max_words] for tokens in X]\n",
    "    X_tensor = torch.zeros(len(batch), max_words, embed_len)\n",
    "    for i, tokens in enumerate(X):\n",
    "        X_tensor[i] = glove.get_vecs_by_tokens(tokens)\n",
    "    return X_tensor.reshape(len(batch), -1), torch.tensor(Y) ## Subtracted 1 from labels to bring in range [0,1,2,3] from [1,2,3,4]"
   ]
  },
  {
   "cell_type": "code",
   "execution_count": 11,
   "id": "08e00c18",
   "metadata": {},
   "outputs": [],
   "source": [
    "dataset = Sequences()\n",
    "\n",
    "## Split data\n",
    "train_size = int(0.8 * len(dataset))\n",
    "test_size = len(dataset) - train_size\n",
    "train_dataset, test_dataset = torch.utils.data.random_split(dataset, [train_size, test_size])\n",
    "\n",
    "train_loader = DataLoader(train_dataset, batch_size=batch_size, num_workers=0, shuffle=True, collate_fn=vectorize_batch)\n",
    "test_loader = DataLoader(test_dataset, batch_size=batch_size, num_workers=0, shuffle=False, collate_fn=vectorize_batch)"
   ]
  },
  {
   "cell_type": "code",
   "execution_count": 14,
   "id": "397a9a27",
   "metadata": {
    "scrolled": true
   },
   "outputs": [
    {
     "name": "stdout",
     "output_type": "stream",
     "text": [
      "Epoch [100/1000]\n",
      "(Train) Loss: 0.0001, Accuracy: 100.0000\n",
      "(Test) Loss: 2.1056, Accuracy: 13.5593\n",
      "\n",
      "Epoch [200/1000]\n",
      "(Train) Loss: 0.0001, Accuracy: 100.0000\n",
      "(Test) Loss: 2.0742, Accuracy: 13.5593\n",
      "\n",
      "Epoch [300/1000]\n",
      "(Train) Loss: 0.0000, Accuracy: 100.0000\n",
      "(Test) Loss: 2.0601, Accuracy: 13.5593\n",
      "\n",
      "Epoch [400/1000]\n",
      "(Train) Loss: 0.0000, Accuracy: 100.0000\n",
      "(Test) Loss: 2.0562, Accuracy: 13.5593\n",
      "\n",
      "Epoch [500/1000]\n",
      "(Train) Loss: 0.0000, Accuracy: 100.0000\n",
      "(Test) Loss: 2.0517, Accuracy: 13.5593\n",
      "\n",
      "Epoch [600/1000]\n",
      "(Train) Loss: 0.0000, Accuracy: 100.0000\n",
      "(Test) Loss: 2.0519, Accuracy: 13.5593\n",
      "\n",
      "Epoch [700/1000]\n",
      "(Train) Loss: 0.0000, Accuracy: 100.0000\n",
      "(Test) Loss: 2.0562, Accuracy: 13.5593\n",
      "\n",
      "Epoch [800/1000]\n",
      "(Train) Loss: 0.0000, Accuracy: 100.0000\n",
      "(Test) Loss: 2.0613, Accuracy: 13.5593\n",
      "\n",
      "Epoch [900/1000]\n",
      "(Train) Loss: 0.0000, Accuracy: 100.0000\n",
      "(Test) Loss: 2.0662, Accuracy: 13.5593\n",
      "\n",
      "Epoch [1000/1000]\n",
      "(Train) Loss: 0.0000, Accuracy: 100.0000\n",
      "(Test) Loss: 2.0724, Accuracy: 13.5593\n",
      "\n"
     ]
    }
   ],
   "source": [
    "device = torch.device('cuda' if torch.cuda.is_available() else 'cpu')\n",
    "model = NeuralNet(input_size, output_size).to(device)\n",
    "\n",
    "criterion = nn.CrossEntropyLoss()\n",
    "optimizer = torch.optim.Adam(model.parameters(), lr=learning_rate)\n",
    "\n",
    "train_losses = []\n",
    "test_losses = []\n",
    "train_accs = []\n",
    "test_accs = []\n",
    "\n",
    "for epoch in range(num_epochs):\n",
    "    correct = 0\n",
    "    correct_test = 0\n",
    "\n",
    "    # Train loop\n",
    "    for words, labels in train_loader:\n",
    "        words = words.to(dtype=torch.float).to(device)\n",
    "        labels = labels.to(dtype=torch.long).to(device)\n",
    "        \n",
    "        # Forward pass\n",
    "        outputs = model(words)\n",
    "        loss = criterion(outputs, labels)\n",
    "        \n",
    "        # Backward and optimize\n",
    "        optimizer.zero_grad()\n",
    "        loss.backward()\n",
    "        optimizer.step()\n",
    "        \n",
    "        _, predicted = torch.max(outputs, dim=1)\n",
    "        correct += torch.sum(predicted == labels)\n",
    "    \n",
    "    train_accuracy = (100 * correct / len(train_dataset)).to('cpu')\n",
    "    train_losses.append(loss.item())\n",
    "    train_accs.append(train_accuracy)\n",
    "    \n",
    "    # Test loop\n",
    "    with torch.no_grad():\n",
    "        for words, labels in test_loader:\n",
    "            words = words.to(dtype=torch.float).to(device)\n",
    "            labels = labels.to(dtype=torch.long).to(device)\n",
    "\n",
    "            # Forward pass\n",
    "            outputs = model(words)\n",
    "            test_loss = criterion(outputs, labels)\n",
    "\n",
    "            _, predicted_test = torch.max(outputs, dim=1)\n",
    "            correct_test += torch.sum(predicted_test == labels)\n",
    "    \n",
    "    \n",
    "    test_accuracy = (100 * correct_test / len(train_dataset)).to('cpu')\n",
    "    test_losses.append(test_loss.item())\n",
    "    test_accs.append(test_accuracy)\n",
    "    \n",
    "    if (epoch+1) % 100 == 0:\n",
    "        print (f'Epoch [{epoch+1}/{num_epochs}]')       \n",
    "        print (f'(Train) Loss: {loss.item():.4f}, Accuracy: {train_accuracy:.4f}')\n",
    "        print (f'(Test) Loss: {test_loss.item():.4f}, Accuracy: {test_accuracy:.4f}')\n",
    "        print('')"
   ]
  },
  {
   "cell_type": "code",
   "execution_count": 15,
   "id": "259e352d",
   "metadata": {
    "scrolled": true
   },
   "outputs": [
    {
     "data": {
      "image/png": "[encoded data removed]",
      "text/plain": [
       "<Figure size 432x288 with 2 Axes>"
      ]
     },
     "metadata": {
      "needs_background": "light"
     },
     "output_type": "display_data"
    }
   ],
   "source": [
    "import matplotlib.pyplot as plt\n",
    "\n",
    "plt.subplot(1, 2, 1)\n",
    "plt.plot(train_losses, label='Train loss')\n",
    "plt.plot(test_losses, label='Test loss')\n",
    "plt.legend()\n",
    "\n",
    "plt.subplot(1, 2, 2)\n",
    "plt.plot(train_accs, label='Train accuracy')\n",
    "plt.plot(test_accs, label='Test accuracy')\n",
    "plt.legend()\n",
    "\n",
    "plt.show()"
   ]
  },
  {
   "cell_type": "markdown",
   "id": "b3fd0d33",
   "metadata": {},
   "source": [
    "# Save model"
   ]
  },
  {
   "cell_type": "code",
   "execution_count": null,
   "id": "53e30798",
   "metadata": {},
   "outputs": [],
   "source": [
    "data = {\n",
    "\"model_state\": model.state_dict(),\n",
    "\"input_size\": input_size,\n",
    "\"hidden_size\": hidden_size,\n",
    "\"output_size\": output_size,\n",
    "\"all_words\": all_words,\n",
    "\"tags\": tags\n",
    "}\n",
    "\n",
    "FILE = \"model.pth\"\n",
    "torch.save(data, FILE)"
   ]
  }
 ],
 "metadata": {
  "kernelspec": {
   "display_name": "pytorchenv",
   "language": "python",
   "name": "pytorchenv"
  },
  "language_info": {
   "codemirror_mode": {
    "name": "ipython",
    "version": 3
   },
   "file_extension": ".py",
   "mimetype": "text/x-python",
   "name": "python",
   "nbconvert_exporter": "python",
   "pygments_lexer": "ipython3",
   "version": "3.9.12"
  }
 },
 "nbformat": 4,
 "nbformat_minor": 5
}
