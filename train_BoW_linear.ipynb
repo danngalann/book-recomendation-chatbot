{
 "cells": [
  {
   "cell_type": "markdown",
   "id": "b2157fc7",
   "metadata": {},
   "source": [
    "# Data processing "
   ]
  },
  {
   "cell_type": "markdown",
   "id": "1eefdf9b",
   "metadata": {},
   "source": [
    "## Imports"
   ]
  },
  {
   "cell_type": "code",
   "execution_count": 41,
   "id": "3b077eee",
   "metadata": {},
   "outputs": [],
   "source": [
    "import numpy as np\n",
    "import json\n",
    "import torch\n",
    "import torch.nn as nn\n",
    "from torch.utils.data import Dataset, DataLoader\n",
    "from sklearn.feature_extraction.text import CountVectorizer"
   ]
  },
  {
   "cell_type": "markdown",
   "id": "2c2c66e0",
   "metadata": {},
   "source": [
    "## Functions"
   ]
  },
  {
   "cell_type": "code",
   "execution_count": 42,
   "id": "e2dc13cd",
   "metadata": {},
   "outputs": [],
   "source": [
    "import numpy as np\n",
    "import nltk\n",
    "from nltk.stem.porter import PorterStemmer\n",
    "stemmer = PorterStemmer()\n",
    "\n",
    "try:\n",
    "    nltk.data.find('tokenizers/punkt')\n",
    "except LookupError:\n",
    "    nltk.download('punkt')\n",
    "\n",
    "def tokenize(sentence):\n",
    "    return nltk.word_tokenize(sentence)\n",
    "\n",
    "\n",
    "def stem(word):\n",
    "    return stemmer.stem(word.lower())\n",
    "\n",
    "\n",
    "def bag_of_words(tokenized_sentence, words):\n",
    "    \"\"\"\n",
    "    return bag of words array:\n",
    "    1 for each known word that exists in the sentence, 0 otherwise\n",
    "    example:\n",
    "    sentence = [\"hello\", \"how\", \"are\", \"you\"]\n",
    "    words = [\"hi\", \"hello\", \"I\", \"you\", \"bye\", \"thank\", \"cool\"]\n",
    "    bog   = [  0 ,    1 ,    0 ,   1 ,    0 ,    0 ,      0]\n",
    "    \"\"\"\n",
    "    sentence_words = [stem(word) for word in tokenized_sentence]\n",
    "    bag = np.zeros(len(words), dtype=np.float32)\n",
    "    for idx, w in enumerate(words):\n",
    "        if w in sentence_words: \n",
    "            bag[idx] = 1\n",
    "\n",
    "    return bag"
   ]
  },
  {
   "cell_type": "markdown",
   "id": "c68ffafb",
   "metadata": {},
   "source": [
    "## Load dataset"
   ]
  },
  {
   "cell_type": "code",
   "execution_count": 43,
   "id": "11e9c5af",
   "metadata": {},
   "outputs": [],
   "source": [
    "with open('intents.json', 'r') as f:\n",
    "    intents = json.load(f)"
   ]
  },
  {
   "cell_type": "code",
   "execution_count": 44,
   "id": "568f4330",
   "metadata": {},
   "outputs": [],
   "source": [
    "all_words = []\n",
    "tags = []\n",
    "xy = []\n",
    "\n",
    "# loop through each sentence in our intents patterns\n",
    "for intent in intents['intents']:\n",
    "    tag = intent['tag']\n",
    "    # add to tag list\n",
    "    tags.append(tag)\n",
    "    for pattern in intent['patterns']:\n",
    "        # tokenize each word in the sentence\n",
    "        w = tokenize(pattern)\n",
    "        # add to our words list\n",
    "        all_words.extend(w)\n",
    "        # add to xy pair\n",
    "        xy.append((w, tag))"
   ]
  },
  {
   "cell_type": "code",
   "execution_count": 45,
   "id": "e0f26300",
   "metadata": {},
   "outputs": [],
   "source": [
    "# stem and lower each word\n",
    "ignore_words = ['?', '.', '!']\n",
    "all_words = [stem(w) for w in all_words if w not in ignore_words]\n",
    "\n",
    "# remove duplicates and sort\n",
    "all_words = sorted(set(all_words))\n",
    "tags = sorted(set(tags))"
   ]
  },
  {
   "cell_type": "code",
   "execution_count": 46,
   "id": "3924322e",
   "metadata": {},
   "outputs": [],
   "source": [
    "# create training data\n",
    "X_train = []\n",
    "y_train = []\n",
    "for (pattern_sentence, tag) in xy:\n",
    "    # X: bag of words for each pattern_sentence\n",
    "    bag = bag_of_words(pattern_sentence, all_words)\n",
    "    X_train.append(bag)\n",
    "    # y: PyTorch CrossEntropyLoss needs only class labels, not one-hot\n",
    "    label = tags.index(tag)\n",
    "    y_train.append(label)\n",
    "\n",
    "X_train = np.array(X_train)\n",
    "y_train = np.array(y_train)"
   ]
  },
  {
   "cell_type": "code",
   "execution_count": 47,
   "id": "53a77934",
   "metadata": {},
   "outputs": [],
   "source": [
    "class Sequences(Dataset):\n",
    "    def __init__(self):\n",
    "        self.n_samples = len(X_train)\n",
    "        self.x_data = X_train\n",
    "        self.y_data = y_train\n",
    "        \n",
    "    def __getitem__(self, i):\n",
    "        return self.x_data[i], self.y_data[i]\n",
    "    \n",
    "    def __len__(self):\n",
    "        return self.n_samples"
   ]
  },
  {
   "cell_type": "markdown",
   "id": "759283aa",
   "metadata": {},
   "source": [
    "# Model definition"
   ]
  },
  {
   "cell_type": "markdown",
   "id": "19dbecbd",
   "metadata": {},
   "source": [
    "## Hyperparameters"
   ]
  },
  {
   "cell_type": "code",
   "execution_count": 48,
   "id": "fbf28348",
   "metadata": {},
   "outputs": [],
   "source": [
    "num_epochs = 1000\n",
    "batch_size = 8\n",
    "learning_rate = 0.001\n",
    "input_size = len(X_train[0])\n",
    "hidden_size = 8\n",
    "output_size = len(tags)"
   ]
  },
  {
   "cell_type": "markdown",
   "id": "f0b82470",
   "metadata": {},
   "source": [
    "## Model"
   ]
  },
  {
   "cell_type": "code",
   "execution_count": 49,
   "id": "60cf7228",
   "metadata": {},
   "outputs": [],
   "source": [
    "class NeuralNet(nn.Module):\n",
    "    def __init__(self, input_size, hidden_size, num_classes):\n",
    "        super(NeuralNet, self).__init__()\n",
    "        self.l1 = nn.Linear(input_size, hidden_size)\n",
    "        self.l2 = nn.Linear(hidden_size, hidden_size)\n",
    "        self.l3 = nn.Linear(hidden_size, num_classes)\n",
    "        self.relu = nn.ReLU()\n",
    "    \n",
    "    def forward(self, x):\n",
    "        out = self.l1(x)\n",
    "        out = self.relu(out)\n",
    "        out = self.l2(out)\n",
    "        out = self.relu(out)\n",
    "        out = self.l3(out)\n",
    "        # no activation and no softmax at the end\n",
    "        return out"
   ]
  },
  {
   "cell_type": "markdown",
   "id": "9a3b517c",
   "metadata": {},
   "source": [
    "# Training"
   ]
  },
  {
   "cell_type": "code",
   "execution_count": 69,
   "id": "08e00c18",
   "metadata": {},
   "outputs": [],
   "source": [
    "dataset = Sequences()\n",
    "\n",
    "## Split data\n",
    "train_size = int(0.8 * len(dataset))\n",
    "test_size = len(dataset) - train_size\n",
    "train_dataset, test_dataset = torch.utils.data.random_split(dataset, [train_size, test_size])\n",
    "\n",
    "train_loader = DataLoader(train_dataset, batch_size=batch_size, num_workers=0, shuffle=True)\n",
    "test_loader = DataLoader(test_dataset, batch_size=batch_size, num_workers=0, shuffle=False)"
   ]
  },
  {
   "cell_type": "code",
   "execution_count": 82,
   "id": "397a9a27",
   "metadata": {
    "scrolled": true
   },
   "outputs": [
    {
     "name": "stdout",
     "output_type": "stream",
     "text": [
      "Epoch [100/1000]\n",
      "(Train) Loss: 0.5555, Accuracy: 91.6667\n",
      "(Test) Loss: 0.0433, Accuracy: 11.1111\n",
      "\n",
      "Epoch [200/1000]\n",
      "(Train) Loss: 0.0445, Accuracy: 100.0000\n",
      "(Test) Loss: 0.0020, Accuracy: 11.1111\n",
      "\n",
      "Epoch [300/1000]\n",
      "(Train) Loss: 0.0164, Accuracy: 100.0000\n",
      "(Test) Loss: 0.0005, Accuracy: 13.8889\n",
      "\n",
      "Epoch [400/1000]\n",
      "(Train) Loss: 0.0205, Accuracy: 100.0000\n",
      "(Test) Loss: 0.0002, Accuracy: 13.8889\n",
      "\n",
      "Epoch [500/1000]\n",
      "(Train) Loss: 0.0026, Accuracy: 100.0000\n",
      "(Test) Loss: 0.0001, Accuracy: 16.6667\n",
      "\n",
      "Epoch [600/1000]\n",
      "(Train) Loss: 0.0025, Accuracy: 100.0000\n",
      "(Test) Loss: 0.0001, Accuracy: 16.6667\n",
      "\n",
      "Epoch [700/1000]\n",
      "(Train) Loss: 0.0016, Accuracy: 100.0000\n",
      "(Test) Loss: 0.0000, Accuracy: 16.6667\n",
      "\n",
      "Epoch [800/1000]\n",
      "(Train) Loss: 0.0002, Accuracy: 100.0000\n",
      "(Test) Loss: 0.0000, Accuracy: 16.6667\n",
      "\n",
      "Epoch [900/1000]\n",
      "(Train) Loss: 0.0005, Accuracy: 100.0000\n",
      "(Test) Loss: 0.0000, Accuracy: 16.6667\n",
      "\n",
      "Epoch [1000/1000]\n",
      "(Train) Loss: 0.0002, Accuracy: 100.0000\n",
      "(Test) Loss: 0.0000, Accuracy: 16.6667\n",
      "\n"
     ]
    }
   ],
   "source": [
    "device = torch.device('cuda' if torch.cuda.is_available() else 'cpu')\n",
    "model = NeuralNet(input_size, hidden_size, output_size).to(device)\n",
    "\n",
    "criterion = nn.CrossEntropyLoss()\n",
    "optimizer = torch.optim.Adam(model.parameters(), lr=learning_rate)\n",
    "\n",
    "for epoch in range(num_epochs):\n",
    "    correct = 0\n",
    "    correct_test = 0\n",
    "\n",
    "    for words, labels in train_loader:\n",
    "        words = words.to(dtype=torch.float).to(device)\n",
    "        labels = labels.to(dtype=torch.long).to(device)\n",
    "        \n",
    "        # Forward pass\n",
    "        outputs = model(words)\n",
    "        loss = criterion(outputs, labels)\n",
    "        \n",
    "        # Backward and optimize\n",
    "        optimizer.zero_grad()\n",
    "        loss.backward()\n",
    "        optimizer.step()\n",
    "        \n",
    "        _, predicted = torch.max(outputs, dim=1)\n",
    "        correct += torch.sum(predicted == labels)\n",
    "    \n",
    "    for words, labels in test_loader:\n",
    "        words = words.to(dtype=torch.float).to(device)\n",
    "        labels = labels.to(dtype=torch.long).to(device)\n",
    "\n",
    "        # Forward pass\n",
    "        outputs = model(words)\n",
    "        test_loss = criterion(outputs, labels)\n",
    "\n",
    "        _, predicted_test = torch.max(outputs, dim=1)\n",
    "        correct_test += torch.sum(predicted_test == labels)\n",
    "    \n",
    "    train_accuracy = 100 * correct / len(train_dataset)\n",
    "    test_accuracy = 100 * correct_test / len(train_dataset)\n",
    "    \n",
    "    if (epoch+1) % 100 == 0:\n",
    "        print (f'Epoch [{epoch+1}/{num_epochs}]')       \n",
    "        print (f'(Train) Loss: {loss.item():.4f}, Accuracy: {train_accuracy:.4f}')\n",
    "        print (f'(Test) Loss: {test_loss.item():.4f}, Accuracy: {test_accuracy:.4f}')\n",
    "        print('')"
   ]
  },
  {
   "cell_type": "markdown",
   "id": "a9b4622a",
   "metadata": {},
   "source": [
    "# Save model"
   ]
  },
  {
   "cell_type": "code",
   "execution_count": 81,
   "id": "292ef1e3",
   "metadata": {},
   "outputs": [],
   "source": [
    "data = {\n",
    "\"model_state\": model.state_dict(),\n",
    "\"input_size\": input_size,\n",
    "\"hidden_size\": hidden_size,\n",
    "\"output_size\": output_size,\n",
    "\"all_words\": all_words,\n",
    "\"tags\": tags\n",
    "}\n",
    "\n",
    "FILE = \"model.pth\"\n",
    "torch.save(data, FILE)"
   ]
  }
 ],
 "metadata": {
  "kernelspec": {
   "display_name": "pytorchenv",
   "language": "python",
   "name": "pytorchenv"
  },
  "language_info": {
   "codemirror_mode": {
    "name": "ipython",
    "version": 3
   },
   "file_extension": ".py",
   "mimetype": "text/x-python",
   "name": "python",
   "nbconvert_exporter": "python",
   "pygments_lexer": "ipython3",
   "version": "3.9.12"
  }
 },
 "nbformat": 4,
 "nbformat_minor": 5
}
